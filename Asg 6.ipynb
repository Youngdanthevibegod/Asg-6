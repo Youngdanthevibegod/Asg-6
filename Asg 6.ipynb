{
 "cells": [
  {
   "cell_type": "code",
   "execution_count": 45,
   "id": "a6cfd358-474a-4455-9fcd-4e39f59b80e5",
   "metadata": {},
   "outputs": [
    {
     "name": "stdin",
     "output_type": "stream",
     "text": [
      "What is the lower bound: 1\n",
      "What is the upper bound: 10\n",
      "What is the step size for the group: -1\n"
     ]
    },
    {
     "name": "stdout",
     "output_type": "stream",
     "text": [
      "Enter a positive number\n"
     ]
    }
   ],
   "source": [
    "#Write a program that asks the user to input a lower bound, an upper bound, and a step size for the group.\n",
    "lower_b = int(input(\"What is the lower bound:\"))\n",
    "upper_b = int(input(\"What is the upper bound:\"))\n",
    "step_size = int(input(\"What is the step size for the group:\"))\n",
    "\n",
    "ray = list(range(lower_b,upper_b,step_size))\n",
    "if step_size < 0:\n",
    "    print(\"Enter a positive number\")\n",
    "while len(ray) >= 3:\n",
    "    print(\"Mean is:\",sum(ray)/len(ray))\n",
    "    if len(ray) % 2 == 1:\n",
    "        print(\"Median is:\",int(len(ray)/2) +1)\n",
    "    else:\n",
    "        print(\"Median is:\",len(ray)/2)\n",
    "    \n",
    "    print(\"Range is:\",ray[-1] - ray[0])\n",
    "\n",
    "    break"
   ]
  },
  {
   "cell_type": "code",
   "execution_count": 48,
   "id": "b6192b47-7e82-42c2-b3ce-3e9056f27555",
   "metadata": {},
   "outputs": [
    {
     "name": "stdout",
     "output_type": "stream",
     "text": [
      "['G', 'o', 'o', 'd', ' ', '6', 'u', '+', 'k', ' ', 'o', 'n', ' ', 'y', 'o', 'u', 'r', ' ', '7', 'i', 'd', 't', 'e', 'r', '7', '!']\n"
     ]
    }
   ],
   "source": [
    "#Write a program that takes a string of numbers as input and will return the translated message.\n",
    "whole_numbers = [57, 73, 73, 64, 26, -108, 79, -99, 71, 26, 73, 72, 26, 81, 73, 79, 76, 26, -109, 69, 64, 78, 65, 76, -109, 27]\n",
    "octal_list = []\n",
    "webster = []\n",
    "for i in whole_numbers: \n",
    "    if i > 0:\n",
    "        i = (oct(i))\n",
    "        i = i[2:] \n",
    "        octal_list.append(i)\n",
    "    else:\n",
    "        i = (oct(i))\n",
    "        i = i[4:] \n",
    "        octal_list.append(i)\n",
    "for n in octal_list:\n",
    "        n = chr(int(n))\n",
    "        webster.append(n)\n",
    "print(webster)"
   ]
  },
  {
   "cell_type": "code",
   "execution_count": null,
   "id": "b28c06a6-f5c6-4350-b161-55519b5e6139",
   "metadata": {},
   "outputs": [],
   "source": []
  }
 ],
 "metadata": {
  "kernelspec": {
   "display_name": "Python 3 (ipykernel)",
   "language": "python",
   "name": "python3"
  },
  "language_info": {
   "codemirror_mode": {
    "name": "ipython",
    "version": 3
   },
   "file_extension": ".py",
   "mimetype": "text/x-python",
   "name": "python",
   "nbconvert_exporter": "python",
   "pygments_lexer": "ipython3",
   "version": "3.11.5"
  }
 },
 "nbformat": 4,
 "nbformat_minor": 5
}
